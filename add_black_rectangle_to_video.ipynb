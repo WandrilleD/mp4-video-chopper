{
 "cells": [
  {
   "cell_type": "markdown",
   "id": "4c5915d1",
   "metadata": {},
   "source": [
    "## Adding a black rectangle to a video file\n",
    "\n",
    "This notebook is here help add a black rectangle over a video file.\n",
    "\n",
    "WHat it does is first extract a frame from the video so that the user may see where they want to place the rectangle.\n",
    "\n",
    "Once we have coordinates for the rectangle this merely crafts a ffmpeg commands and runs it.\n"
   ]
  },
  {
   "cell_type": "code",
   "execution_count": null,
   "id": "cee79004",
   "metadata": {},
   "outputs": [],
   "source": [
    "## dependencies to install if that is not already the case:\n",
    "## imageio\n",
    "# !pip install imageio[ffmpeg]\n",
    "\n",
    "import imageio\n",
    "import matplotlib.pyplot as plt\n",
    "from matplotlib.patches import Rectangle\n",
    "import os\n"
   ]
  },
  {
   "cell_type": "code",
   "execution_count": null,
   "id": "3d8eacbf",
   "metadata": {},
   "outputs": [],
   "source": [
    "## input video file:\n",
    "filename = 'toy_data/part7_clip1.mp4'\n",
    "## frame to extract:\n",
    "frame_to_extract = 0.5  # by default, extract the frame at the middle-point of the video\n",
    "\n",
    "## output video file:\n",
    "output_file = \"out.mp4\"\n"
   ]
  },
  {
   "cell_type": "code",
   "execution_count": null,
   "id": "a4ddc1f4",
   "metadata": {},
   "outputs": [],
   "source": [
    "\n",
    "vid = imageio.get_reader(filename,  'ffmpeg')\n",
    "\n",
    "image = vid.get_data( int( 25*(vid.get_meta_data()['duration'] * frame_to_extract ) ) ) \n",
    "fig = plt.figure()\n",
    "plt.imshow(image)"
   ]
  },
  {
   "cell_type": "markdown",
   "id": "689b5378",
   "metadata": {},
   "source": [
    "Do not hesitate to change `frame_to_extract` to get a frame where you see the elements to hide\n",
    "\n",
    "Next up, we need to setup where the rectangle will be: adapt the left, bottom, width and height to match the area you want to hide.\n",
    "\n",
    "NB: for extra visibility we plot the rectangle in red here, but in subsequent command we will put it in black."
   ]
  },
  {
   "cell_type": "code",
   "execution_count": null,
   "id": "152308e3",
   "metadata": {},
   "outputs": [],
   "source": [
    "\n",
    "left=1680\n",
    "bottom=120\n",
    "width=250\n",
    "height=400\n",
    "\n",
    "\n",
    "fig, ax = plt.subplots( figsize = (10,10))\n",
    "ax.imshow(image)\n",
    "\n",
    "p = plt.Rectangle((left, bottom), width, height, fill=True , color = 'red')\n",
    "ax.add_patch(p)\n"
   ]
  },
  {
   "cell_type": "markdown",
   "id": "c1a9743a",
   "metadata": {},
   "source": [
    "Once you have the frame place correctly, all that remain is to specify in which file you would like to write the results and to run the ffmpeg command:"
   ]
  },
  {
   "cell_type": "code",
   "execution_count": null,
   "id": "90882212",
   "metadata": {
    "scrolled": true
   },
   "outputs": [],
   "source": [
    "%%time\n",
    "c = f'ffmpeg -y -i {filename} -vf \"drawbox=x={left}:y={bottom}:w={width}:h={height}:color=black:t=fill\" {output_file}'\n",
    "os.system(c)"
   ]
  },
  {
   "cell_type": "markdown",
   "id": "697cfa2c",
   "metadata": {},
   "source": [
    "To check everything worked, we can show the same frame as before, but from the resulting video:"
   ]
  },
  {
   "cell_type": "code",
   "execution_count": null,
   "id": "154aeaec",
   "metadata": {},
   "outputs": [],
   "source": [
    "vid = imageio.get_reader(output_file,  'ffmpeg')\n",
    "image = vid.get_data( int( 25*(vid.get_meta_data()['duration'] * frame_to_extract ) ) ) \n",
    "fig = plt.figure()\n",
    "plt.imshow(image)"
   ]
  },
  {
   "cell_type": "code",
   "execution_count": null,
   "id": "fb53bdda",
   "metadata": {},
   "outputs": [],
   "source": []
  }
 ],
 "metadata": {
  "kernelspec": {
   "display_name": "Environment (conda_py311)",
   "language": "python",
   "name": "conda_py311"
  },
  "language_info": {
   "codemirror_mode": {
    "name": "ipython",
    "version": 3
   },
   "file_extension": ".py",
   "mimetype": "text/x-python",
   "name": "python",
   "nbconvert_exporter": "python",
   "pygments_lexer": "ipython3",
   "version": "3.11.3"
  }
 },
 "nbformat": 4,
 "nbformat_minor": 5
}
