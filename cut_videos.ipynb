{
 "cells": [
  {
   "cell_type": "code",
   "execution_count": null,
   "id": "54e19968",
   "metadata": {},
   "outputs": [],
   "source": [
    "## where to write temporary files \n",
    "TMP_PREFIX = \"tmp/\"\n",
    "\n",
    "## csv file to find the annotations\n",
    "ANNOTATION_FILE = \"toy_data/test_annotation.csv\""
   ]
  },
  {
   "cell_type": "markdown",
   "id": "c0138514",
   "metadata": {},
   "source": [
    "\n",
    "\n",
    "mains steps: \n",
    "1. check overlap between parts\n",
    "2. check overlap between cutout and parts extremities: push part extremities \n",
    "3. from cut out to sub parts\n",
    "4. generate split and merge commands\n",
    "5. apply commands\n",
    "\n",
    "\n",
    "\n",
    "\n"
   ]
  },
  {
   "cell_type": "code",
   "execution_count": null,
   "id": "db255bbc",
   "metadata": {},
   "outputs": [],
   "source": [
    "from collections import defaultdict\n",
    "import os \n",
    "import pandas as pd\n",
    "import numpy as np\n",
    "\n",
    "from utils import *"
   ]
  },
  {
   "cell_type": "code",
   "execution_count": null,
   "id": "da5c9a4e",
   "metadata": {},
   "outputs": [],
   "source": [
    "df_annot = pd.read_csv(ANNOTATION_FILE)\n",
    "df_annot['start_second'] = df_annot.start.apply(time_to_seconds) ## convert time to seconds\n",
    "df_annot['stop_second'] = df_annot.stop.apply(time_to_seconds)   ## convert time to seconds\n",
    "\n",
    "\n",
    "## check that all elements start before they stop:\n",
    "PB = df_annot.loc[ df_annot.stop_second < df_annot.start_second , :]\n",
    "if PB.shape[0]>0:\n",
    "    print(\"PROBLEM: some elements stop before they start! please fix this\")\n",
    "    print( PB )\n",
    "    \n",
    "df_annot"
   ]
  },
  {
   "cell_type": "code",
   "execution_count": null,
   "id": "5f412aa3",
   "metadata": {},
   "outputs": [],
   "source": [
    "## separate parts and cut out\n",
    "df_annot_parts = df_annot.loc[ df_annot.destination != \"OUT\" , :].copy().reset_index(drop=True)\n",
    "df_annot_OUT = df_annot.loc[ df_annot.destination == \"OUT\" , :].copy().reset_index(drop=True)\n"
   ]
  },
  {
   "cell_type": "code",
   "execution_count": null,
   "id": "2649884d",
   "metadata": {},
   "outputs": [],
   "source": [
    "## check if some parts overlap :\n",
    "check_overlap( df_annot_parts )\n"
   ]
  },
  {
   "cell_type": "code",
   "execution_count": null,
   "id": "a5344d92",
   "metadata": {},
   "outputs": [],
   "source": [
    "## merge overlapping cutouts \n",
    "df_annot_OUT = merge_overlapping_elements(df_annot_OUT)\n",
    "\n",
    "##sort cutout by video and start!!\n",
    "df_annot_OUT.sort_values( by = ['source' , 'start_second']  , inplace=True)\n"
   ]
  },
  {
   "cell_type": "code",
   "execution_count": null,
   "id": "986f7da1",
   "metadata": {},
   "outputs": [],
   "source": [
    "# applying cutouts :\n",
    "#  * overlaps is across start or stop of part -> move part start or stop\n",
    "#  * otherwise part is split in 2\n",
    "df_subparts = associate_parts_and_cutout(df_annot_parts,df_annot_OUT)\n",
    "df_subparts"
   ]
  },
  {
   "cell_type": "code",
   "execution_count": null,
   "id": "e7062ad3",
   "metadata": {},
   "outputs": [],
   "source": [
    "cmds = create_commands( df_subparts , prefix = TMP_PREFIX )\n",
    "cmds"
   ]
  },
  {
   "cell_type": "code",
   "execution_count": null,
   "id": "3d760d58",
   "metadata": {},
   "outputs": [],
   "source": [
    "# apply commands - this may take a long while \n",
    "for part , commands in cmds.items():\n",
    "    print('creating',part)\n",
    "    for c in commands:\n",
    "        os.system(c)"
   ]
  }
 ],
 "metadata": {
  "kernelspec": {
   "display_name": "Environment (conda_py311)",
   "language": "python",
   "name": "conda_py311"
  },
  "language_info": {
   "codemirror_mode": {
    "name": "ipython",
    "version": 3
   },
   "file_extension": ".py",
   "mimetype": "text/x-python",
   "name": "python",
   "nbconvert_exporter": "python",
   "pygments_lexer": "ipython3",
   "version": "3.11.3"
  }
 },
 "nbformat": 4,
 "nbformat_minor": 5
}
