{
 "cells": [
  {
   "cell_type": "markdown",
   "id": "7ba78967",
   "metadata": {},
   "source": [
    "# automatically annotating silences in a video\n",
    "\n",
    "this notebook is here to automatically annotate any silence lasting more than some duration (e.g. 5 seconds) from a video or audio file.\n"
   ]
  },
  {
   "cell_type": "code",
   "execution_count": 1,
   "id": "d7162430",
   "metadata": {},
   "outputs": [
    {
     "name": "stderr",
     "output_type": "stream",
     "text": [
      "WARNING:root:Could not import librosa: No module named 'librosa'. Some functionality may be disabled.\n"
     ]
    }
   ],
   "source": [
    "## preliminary definitions.\n",
    "## you will have to install the audiosegment python library \n",
    "# !pip install audiosegment\n",
    "\n",
    "\n",
    "import audiosegment\n",
    "import matplotlib.pyplot as plt\n",
    "import numpy as np\n",
    "import math\n",
    "\n",
    "def format_time(a):\n",
    "    hms=[str( a//3600 ),str( (a%3600)//60 ),str( a%60 )]\n",
    "    for i in range(len(hms)):\n",
    "        if len(hms[i])==1:\n",
    "            hms[i] = '0' + hms[i]\n",
    "    \n",
    "    return ':'.join( hms )\n",
    "\n",
    "def getStretch( R ):\n",
    "    \"\"\" finds contiguous windows where a condition is satistied \"\"\"\n",
    "    previous = False\n",
    "    windows = []\n",
    "    for i in range(0,len(R)):\n",
    "        if R[i]:\n",
    "            if not previous :\n",
    "                windows.append([i,i])\n",
    "            else:\n",
    "                windows[-1][-1]=i\n",
    "        previous=R[i]\n",
    "    return windows\n",
    "\n",
    "def get_mean_every( data , every ):\n",
    "    return np.array([ np.mean( np.abs( data[ i*every :(i+1)*every ] ) ) for i in range( math.ceil(len(data)/every) )])"
   ]
  },
  {
   "cell_type": "markdown",
   "id": "0b7e4cf6",
   "metadata": {},
   "source": [
    "We read the audio and simplify it to get the average sound amplitude at each second \n",
    "(if the video/audio is long, this will take some time, maybe up to a minute so be patient):"
   ]
  },
  {
   "cell_type": "code",
   "execution_count": 2,
   "id": "6b8a1c26",
   "metadata": {},
   "outputs": [],
   "source": [
    "\n",
    "## put here the input file \n",
    "## NB: in example I use a m4a. but this works with a mp4 video too:\n",
    "input_file = \"toy_data/audio2803562588.m4a\"\n",
    "\n",
    "output_file = \"cutout_annotations.csv\""
   ]
  },
  {
   "cell_type": "code",
   "execution_count": 3,
   "id": "c6b5f3f5",
   "metadata": {},
   "outputs": [
    {
     "name": "stdout",
     "output_type": "stream",
     "text": [
      "toy_data/audio2803562588.m4a: 1 channels, 16 bit, sampled @ 32.0 kHz, 6334.336s long\n",
      "CPU times: user 2.33 s, sys: 2.17 s, total: 4.5 s\n",
      "Wall time: 8.1 s\n"
     ]
    }
   ],
   "source": [
    "%%time\n",
    "## reading the audio\n",
    "seg = audiosegment.from_file(input_file)\n",
    "print( seg )\n",
    "## from audio segment to numpy arrays:\n",
    "A = seg.to_numpy_array()\n",
    "Ampl_second = get_mean_every( np.abs(A) , seg.frame_rate )"
   ]
  },
  {
   "cell_type": "markdown",
   "id": "0f6b272e",
   "metadata": {},
   "source": [
    "A silence is whenever the amplitude gets below 10 (I found 10 works well, use higher values if the microphone adds some noise or something).\n",
    "\n",
    "We want to remove every silences that last at least 5 seconds:"
   ]
  },
  {
   "cell_type": "code",
   "execution_count": 4,
   "id": "c7612f51",
   "metadata": {},
   "outputs": [
    {
     "name": "stdout",
     "output_type": "stream",
     "text": [
      "start \t duration  \tcut out annotation\n",
      "340 \t 6 \t\tcut out 00:05:40 to 00:05:46\n",
      "1136 \t 9 \t\tcut out 00:18:56 to 00:19:05\n",
      "1343 \t 7 \t\tcut out 00:22:23 to 00:22:30\n",
      "3393 \t 6 \t\tcut out 00:56:33 to 00:56:39\n",
      "5207 \t 6 \t\tcut out 01:26:47 to 01:26:53\n",
      "5699 \t 8 \t\tcut out 01:34:59 to 01:35:07\n"
     ]
    }
   ],
   "source": [
    "## any silence lasting longer than that number (in seconds) will be annotated:\n",
    "SILENCE_DURATION_THRESHOLD = 5 \n",
    "\n",
    "\n",
    "DETECTION_THRESHOLD = 10 # define amplitude under which we say there is silence\n",
    "\n",
    "\n",
    "W = getStretch( Ampl_second< DETECTION_THRESHOLD )\n",
    "\n",
    "starts = []\n",
    "stops = []\n",
    "\n",
    "\n",
    "print( 'start' ,'\\t', 'duration',\" \\tcut out annotation\")\n",
    "for w in W:\n",
    "    if w[1]-w[0] > SILENCE_DURATION_THRESHOLD:\n",
    "        print( w[0] ,'\\t', w[1]-w[0],\n",
    "              \"\\t\\tcut out {} to {}\".format( format_time(w[0]) , format_time(w[1]) ))\n"
   ]
  },
  {
   "cell_type": "code",
   "execution_count": 5,
   "id": "adc5cb52",
   "metadata": {},
   "outputs": [],
   "source": [
    "## writing the cutout instruction to a csv file:\n",
    "with open( output_file , 'w' ) as OUT:\n",
    "    print( 'source' ,'start','stop','destination' , sep=',' , file=OUT)\n",
    "    for w in W:\n",
    "        if w[1]-w[0] > SILENCE_DURATION_THRESHOLD:\n",
    "            print( input_file, format_time(w[0]) , format_time(w[1]) , 'OUT' ,\n",
    "                  sep=',' , file=OUT)"
   ]
  },
  {
   "cell_type": "code",
   "execution_count": 6,
   "id": "2fc001ae",
   "metadata": {},
   "outputs": [
    {
     "data": {
      "text/plain": [
       "[<matplotlib.lines.Line2D at 0x7fc93029a890>]"
      ]
     },
     "execution_count": 6,
     "metadata": {},
     "output_type": "execute_result"
    },
    {
     "data": {
      "image/png": "[encoded data removed]",
      "text/plain": [
       "<Figure size 432x288 with 1 Axes>"
      ]
     },
     "metadata": {
      "needs_background": "light"
     },
     "output_type": "display_data"
    }
   ],
   "source": [
    "## maybe you want to plot specific streches \n",
    "## of the signal to check the automatic annotation :\n",
    "a,b = 3390,3410\n",
    "plt.plot( A[seg.frame_rate * a: seg.frame_rate * b]  ) ## full signal\n",
    "plt.plot( seg.frame_rate*0.5 + seg.frame_rate * np.arange(b-a) , 1000 * np.log10( Ampl_second[a: b] ) ) # simplified to 1/second"
   ]
  },
  {
   "cell_type": "code",
   "execution_count": null,
   "id": "217c2f4e",
   "metadata": {},
   "outputs": [],
   "source": []
  }
 ],
 "metadata": {
  "kernelspec": {
   "display_name": "Environment (conda_anaconda3)",
   "language": "python",
   "name": "conda_anaconda3"
  },
  "language_info": {
   "codemirror_mode": {
    "name": "ipython",
    "version": 3
   },
   "file_extension": ".py",
   "mimetype": "text/x-python",
   "name": "python",
   "nbconvert_exporter": "python",
   "pygments_lexer": "ipython3",
   "version": "3.7.4"
  }
 },
 "nbformat": 4,
 "nbformat_minor": 5
}
